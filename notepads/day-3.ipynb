{
 "cells": [
  {
   "cell_type": "markdown",
   "id": "instructional-qualification",
   "metadata": {},
   "source": [
    "# Day 3 - Advent of Code 2020 (https://adventofcode.com/2020/day/3)\n",
    "## Data Preparation\n",
    "\n",
    "As with the previous days, I will be starting with getting my input into a good format before even taken a reat pass at the problem..."
   ]
  },
  {
   "cell_type": "code",
   "execution_count": 1,
   "id": "communist-rendering",
   "metadata": {},
   "outputs": [
    {
     "name": "stdout",
     "output_type": "stream",
     "text": [
      "['..##.......', '#...#...#..', '.#....#..#.', '..#.#...#.#', '.#...##..#.', '..#.##.....', '.#.#.#....#', '.#........#', '#.##...#...', '#...##....#', '.#..#...#.#']\n"
     ]
    }
   ],
   "source": [
    "real_run = False\n",
    "file_name = \"day3-input.txt\" if real_run else \"day3-test.txt\"\n",
    "\n",
    "# create a list from the file, removing any '\\n' characters\n",
    "data = [line.rstrip('\\n') for line in open(file_name)]\n",
    "\n",
    "# print data to check it's what we want it to be\n",
    "print(data)"
   ]
  },
  {
   "cell_type": "markdown",
   "id": "continuous-table",
   "metadata": {},
   "source": [
    "## Part One\n",
    "\n",
    "Each line of our data is a layer in a toboggan slope... It repeats inifinitely out to either side and '#' are trees and '.' are open spaces.\n",
    "\n",
    "We have a route given to us (down 1, right 3) and we want to return the amount of trees we are given. If we start from (0,0), we will go down hitting (1,3) (2,6) (3,9) etc."
   ]
  },
  {
   "cell_type": "code",
   "execution_count": 2,
   "id": "convertible-cedar",
   "metadata": {},
   "outputs": [
    {
     "name": "stdout",
     "output_type": "stream",
     "text": [
      ".\n",
      ".\n",
      "#\n",
      ".\n"
     ]
    },
    {
     "ename": "IndexError",
     "evalue": "string index out of range",
     "output_type": "error",
     "traceback": [
      "\u001b[1;31m---------------------------------------------------------------------------\u001b[0m",
      "\u001b[1;31mIndexError\u001b[0m                                Traceback (most recent call last)",
      "\u001b[1;32m<ipython-input-2-cfdbe1fab67a>\u001b[0m in \u001b[0;36m<module>\u001b[1;34m\u001b[0m\n\u001b[0;32m      4\u001b[0m     \u001b[0mcol\u001b[0m \u001b[1;33m=\u001b[0m \u001b[0mrow\u001b[0m \u001b[1;33m*\u001b[0m \u001b[1;36m3\u001b[0m\u001b[1;33m\u001b[0m\u001b[1;33m\u001b[0m\u001b[0m\n\u001b[0;32m      5\u001b[0m \u001b[1;33m\u001b[0m\u001b[0m\n\u001b[1;32m----> 6\u001b[1;33m     \u001b[0mitem\u001b[0m \u001b[1;33m=\u001b[0m \u001b[0mdata\u001b[0m\u001b[1;33m[\u001b[0m\u001b[0mrow\u001b[0m\u001b[1;33m]\u001b[0m\u001b[1;33m[\u001b[0m\u001b[0mcol\u001b[0m\u001b[1;33m]\u001b[0m\u001b[1;33m\u001b[0m\u001b[1;33m\u001b[0m\u001b[0m\n\u001b[0m\u001b[0;32m      7\u001b[0m \u001b[1;33m\u001b[0m\u001b[0m\n\u001b[0;32m      8\u001b[0m     \u001b[0mprint\u001b[0m\u001b[1;33m(\u001b[0m\u001b[0mitem\u001b[0m\u001b[1;33m)\u001b[0m\u001b[1;33m\u001b[0m\u001b[1;33m\u001b[0m\u001b[0m\n",
      "\u001b[1;31mIndexError\u001b[0m: string index out of range"
     ]
    }
   ],
   "source": [
    "length = len(data)\n",
    "\n",
    "for row in range(length):\n",
    "    col = row * 3\n",
    "    \n",
    "    item = data[row][col]\n",
    "    \n",
    "    print(item)"
   ]
  },
  {
   "cell_type": "markdown",
   "id": "touched-spanking",
   "metadata": {},
   "source": [
    "Since the length of each row is less than 3x the length we will get a string index out of range exception. Since we are starting at a 0 index and we know the length of each row, we can use modulus."
   ]
  },
  {
   "cell_type": "code",
   "execution_count": 3,
   "id": "excited-lending",
   "metadata": {},
   "outputs": [
    {
     "name": "stdout",
     "output_type": "stream",
     "text": [
      ".\n",
      ".\n",
      "#\n",
      ".\n",
      "#\n",
      "#\n",
      ".\n",
      "#\n",
      "#\n",
      "#\n",
      "#\n"
     ]
    }
   ],
   "source": [
    "length = len(data)\n",
    "row_length = len(data[0])\n",
    "\n",
    "for row in range(length):\n",
    "    col = row * 3 % row_length\n",
    "    \n",
    "    item = data[row][col]\n",
    "    \n",
    "    print(item)"
   ]
  },
  {
   "cell_type": "markdown",
   "id": "trying-tourism",
   "metadata": {},
   "source": [
    "Now we make sure to keep track of the count as it increases."
   ]
  },
  {
   "cell_type": "code",
   "execution_count": 4,
   "id": "wrapped-large",
   "metadata": {},
   "outputs": [
    {
     "name": "stdout",
     "output_type": "stream",
     "text": [
      "7\n"
     ]
    }
   ],
   "source": [
    "length = len(data)\n",
    "row_length = len(data[0])\n",
    "tree_count = 0\n",
    "\n",
    "for row in range(length):\n",
    "    col = (row * 3) % row_length\n",
    "    \n",
    "    item = data[row][col]\n",
    "    \n",
    "    if item == '#':\n",
    "        tree_count += 1\n",
    "\n",
    "print(tree_count)"
   ]
  },
  {
   "cell_type": "markdown",
   "id": "advised-butterfly",
   "metadata": {},
   "source": [
    "## Part Two\n",
    "\n",
    "Now, we do the same for a group of:\n",
    "* Right 1, down 1.\n",
    "* Right 3, down 1. (This is the slope we already checked.)\n",
    "* Right 5, down 1.\n",
    "* Right 7, down 1.\n",
    "* Right 1, down 2.\n",
    "\n",
    "So we can generalise and pass in a parameter for what the column position. We can address 4/5 requirements by just making this one change!"
   ]
  },
  {
   "cell_type": "code",
   "execution_count": 5,
   "id": "referenced-ukraine",
   "metadata": {},
   "outputs": [],
   "source": [
    "def traverse_path(path_data, right):\n",
    "    length = len(path_data)\n",
    "    row_length = len(path_data[0])\n",
    "    tree_count = 0\n",
    "\n",
    "    for row in range(length):\n",
    "        col = (row * right) % row_length\n",
    "\n",
    "        item = data[row][col]\n",
    "\n",
    "        if item == '#':\n",
    "            tree_count += 1\n",
    "\n",
    "    return tree_count"
   ]
  },
  {
   "cell_type": "code",
   "execution_count": 6,
   "id": "metallic-february",
   "metadata": {},
   "outputs": [
    {
     "name": "stdout",
     "output_type": "stream",
     "text": [
      "7\n"
     ]
    }
   ],
   "source": [
    "# Test with the one we already know...\n",
    "r3_d1 = traverse_path(data, 3)\n",
    "print(r3_d1)"
   ]
  },
  {
   "cell_type": "markdown",
   "id": "liked-dialogue",
   "metadata": {},
   "source": [
    "And to figure the \"down\" motion of right 1, down 2 we can make some adjustments to the row number and divide the length so we don't go down beyond the rows. "
   ]
  },
  {
   "cell_type": "code",
   "execution_count": 7,
   "id": "assisted-light",
   "metadata": {},
   "outputs": [],
   "source": [
    "import math"
   ]
  },
  {
   "cell_type": "code",
   "execution_count": 8,
   "id": "minus-sword",
   "metadata": {},
   "outputs": [],
   "source": [
    "def traverse_path(path_data, right, down=1):\n",
    "    # Use ceil as to make sure we get the final rows! (due to range taking us up to strictly less than the total)\n",
    "    length = math.ceil(len(path_data) / down)\n",
    "    row_length = len(path_data[0])\n",
    "    tree_count = 0\n",
    "\n",
    "    for row in range(length):\n",
    "        col = (row * right) % row_length\n",
    "        row_num = row * down\n",
    "        \n",
    "        item = data[row_num][col]\n",
    "\n",
    "        if item == '#':\n",
    "            tree_count += 1\n",
    "\n",
    "    return tree_count"
   ]
  },
  {
   "cell_type": "code",
   "execution_count": 9,
   "id": "improving-player",
   "metadata": {},
   "outputs": [
    {
     "name": "stdout",
     "output_type": "stream",
     "text": [
      "7\n",
      "336\n"
     ]
    }
   ],
   "source": [
    "# Test with the one we already know...\n",
    "r3_d1 = traverse_path(data, 3)\n",
    "print(r3_d1)\n",
    "\n",
    "# and do all the others:\n",
    "r1_d1 = traverse_path(data, 1)\n",
    "r5_d1 = traverse_path(data, 5)\n",
    "r7_d1 = traverse_path(data, 7)\n",
    "r1_d2 = traverse_path(data, 1, 2)\n",
    "\n",
    "product = r3_d1 * r1_d1 * r5_d1 * r7_d1 * r1_d2\n",
    "\n",
    "print(product)"
   ]
  },
  {
   "cell_type": "markdown",
   "id": "prescribed-vertex",
   "metadata": {},
   "source": [
    "#### There we have it...\n",
    "\n",
    "But perhaps we can go one step further, reduce that repeated code and give the instructions as a dict..."
   ]
  },
  {
   "cell_type": "code",
   "execution_count": 11,
   "id": "portable-examination",
   "metadata": {},
   "outputs": [],
   "source": [
    "instructions = [\n",
    "    {'right':1, 'down':1}, \n",
    "    {'right':3, 'down':1}, \n",
    "    {'right':5, 'down':1}, \n",
    "    {'right':7, 'down':1}, \n",
    "    {'right':1, 'down':2}\n",
    "]"
   ]
  },
  {
   "cell_type": "code",
   "execution_count": 12,
   "id": "simple-measurement",
   "metadata": {},
   "outputs": [],
   "source": [
    "def prod_trav_paths(instrs, path_data):\n",
    "    results = []\n",
    "    \n",
    "    for instr in instrs:\n",
    "        res = traverse_path(path_data, instr['right'], instr['down'])\n",
    "        results.append(res)\n",
    "    \n",
    "    return math.prod(results)"
   ]
  },
  {
   "cell_type": "code",
   "execution_count": 13,
   "id": "attempted-intent",
   "metadata": {},
   "outputs": [
    {
     "data": {
      "text/plain": [
       "336"
      ]
     },
     "execution_count": 13,
     "metadata": {},
     "output_type": "execute_result"
    }
   ],
   "source": [
    "prod_trav_paths(instructions, data)"
   ]
  }
 ],
 "metadata": {
  "kernelspec": {
   "display_name": "Python 3",
   "language": "python",
   "name": "python3"
  },
  "language_info": {
   "codemirror_mode": {
    "name": "ipython",
    "version": 3
   },
   "file_extension": ".py",
   "mimetype": "text/x-python",
   "name": "python",
   "nbconvert_exporter": "python",
   "pygments_lexer": "ipython3",
   "version": "3.9.2"
  }
 },
 "nbformat": 4,
 "nbformat_minor": 5
}
