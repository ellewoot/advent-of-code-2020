{
 "cells": [
  {
   "cell_type": "markdown",
   "id": "distinguished-teach",
   "metadata": {},
   "source": [
    "# Day 2 - Advent of Code 2020 (https://adventofcode.com/2020/day/2)\n",
    "## Data Preparation\n",
    "\n",
    "As with day 1, I will be starting with getting my input into a good format before even taken a reat pass at the problem..."
   ]
  },
  {
   "cell_type": "code",
   "execution_count": 1,
   "id": "entire-looking",
   "metadata": {},
   "outputs": [
    {
     "name": "stdout",
     "output_type": "stream",
     "text": [
      "['1-3 a: abcde', '1-3 b: cdefg', '2-9 c: ccccccccc']\n"
     ]
    }
   ],
   "source": [
    "real_run = False\n",
    "file_name = \"day2-input.txt\" if real_run else \"day2-test.txt\"\n",
    "\n",
    "# create a list from the file, removing any '\\n' characters\n",
    "data = [line.rstrip('\\n') for line in open(file_name)]\n",
    "\n",
    "# print data to check it's what we want it to be\n",
    "print(data)"
   ]
  },
  {
   "cell_type": "markdown",
   "id": "national-royalty",
   "metadata": {},
   "source": [
    "## Part One\n",
    "\n",
    "Each line of our data is a `NUMBER1-NUMBER2 CHAR: STRING` and is a valid password when there are between `NUMBER1` and `NUMBER2` instances of `CHAR` in `STRING`. We the need to return the number of acceptable passwords so we'll be keeping track of that.\n",
    "First I want to make sure my line splitting function is up to scratch so I'll be testing that out on just the first item in data and bearing in mind that `NUMBER1` and `NUMBER2` may be more than a single digit... re.split() is a great way to split on multiple characters at once and that is what we'll be using. This post explains more: https://www.geeksforgeeks.org/python-split-multiple-characters-from-string/"
   ]
  },
  {
   "cell_type": "code",
   "execution_count": 2,
   "id": "documentary-recognition",
   "metadata": {},
   "outputs": [
    {
     "name": "stdout",
     "output_type": "stream",
     "text": [
      "1 3 a  abcde\n"
     ]
    }
   ],
   "source": [
    "import re\n",
    "\n",
    "number_one, number_two, char, blank, string = re.split('-| |:', data[0])\n",
    "\n",
    "print(number_one, number_two, char, blank, string)"
   ]
  },
  {
   "cell_type": "markdown",
   "id": "outstanding-boost",
   "metadata": {},
   "source": [
    "Now we have a line of code we are confident will split our string how we expect it to every time, we can use these values to verify whether or not it is a valid string. We can do this in a function too, returning true if the string is valid, and then we can use it in our actual loop!\n",
    "\n",
    "An useful base string method for this is string count as seen here: https://www.tutorialspoint.com/python3/string_count.htm"
   ]
  },
  {
   "cell_type": "code",
   "execution_count": 3,
   "id": "bound-planet",
   "metadata": {},
   "outputs": [
    {
     "name": "stdout",
     "output_type": "stream",
     "text": [
      "True\n",
      "False\n"
     ]
    }
   ],
   "source": [
    "def valid_string(to_validate):\n",
    "    number_one, number_two, char, blank, string = re.split('-| |:', to_validate)\n",
    "    # turn our numbers into int types, rather than strings, as they are now!\n",
    "    num_one = int(number_one)\n",
    "    num_two = int(number_two)\n",
    "    \n",
    "    char_count = string.count(char)\n",
    "    if char_count >= num_one and char_count <= num_two:\n",
    "        return True\n",
    "    else:\n",
    "        return False\n",
    "\n",
    "# Test one that we know works\n",
    "print(valid_string(data[0]))\n",
    "# Test one we know that doesn't - and add some 'print' debug lines around our variables if we don't get the answer we expect!\n",
    "print(valid_string(data[1]))"
   ]
  },
  {
   "cell_type": "markdown",
   "id": "nasty-peter",
   "metadata": {},
   "source": [
    "Taking this to the final point of this puzzle we can use the logic we've just created in a loop and since we created it as a function, we can just call valid_string for every line in the data!"
   ]
  },
  {
   "cell_type": "code",
   "execution_count": 4,
   "id": "waiting-elimination",
   "metadata": {},
   "outputs": [
    {
     "name": "stdout",
     "output_type": "stream",
     "text": [
      "2\n"
     ]
    }
   ],
   "source": [
    "valid_count = 0\n",
    "\n",
    "for line in data:\n",
    "    # Since python is extremely clever and True = 1 and False = 0, \n",
    "    # we can add to valid count with the boolean response from the verify_string function\n",
    "    valid_count += valid_string(line)\n",
    "\n",
    "print(valid_count)"
   ]
  },
  {
   "cell_type": "markdown",
   "id": "instant-today",
   "metadata": {},
   "source": [
    "Sorted, some neat code and the answer we were hoping for.\n",
    "\n",
    "#### A better solution?\n",
    "With some list comprehension, we can represent the above cell, in just one line:"
   ]
  },
  {
   "cell_type": "code",
   "execution_count": 5,
   "id": "judicial-arrest",
   "metadata": {},
   "outputs": [
    {
     "name": "stdout",
     "output_type": "stream",
     "text": [
      "2\n"
     ]
    }
   ],
   "source": [
    "count = len([line for line in data if valid_string(line)])\n",
    "\n",
    "print(count)"
   ]
  },
  {
   "cell_type": "markdown",
   "id": "billion-presence",
   "metadata": {},
   "source": [
    "#### Run again but now with the real data\n",
    "And then submit our solutions to Advent of Code and select our star!"
   ]
  },
  {
   "cell_type": "markdown",
   "id": "unable-brooks",
   "metadata": {},
   "source": [
    "## Part Two\n",
    "\n",
    "This part means that little of our part one code is useful! It changes the verification system entirely and so we can use what we've learnt and the same splitting system, but we'll have to be checking different parameters.\n",
    "The lines now mean that either (but not both) the character at `NUMBER_ONE` OR `NUMBER_TWO` are `CHAR` - but we need to remember that python uses a 0 index and this system starts at 1.\n",
    "We'll create a new function which implements this system and then test it."
   ]
  },
  {
   "cell_type": "code",
   "execution_count": 6,
   "id": "dangerous-richardson",
   "metadata": {},
   "outputs": [
    {
     "name": "stdout",
     "output_type": "stream",
     "text": [
      "True\n",
      "False\n"
     ]
    }
   ],
   "source": [
    "def valid_string_pt2(to_validate):\n",
    "    number_one, number_two, char, blank, string = re.split('-| |:', to_validate)\n",
    "    # minus one from our ints so they now match python indexing\n",
    "    num_one = int(number_one) - 1\n",
    "    num_two = int(number_two) - 1\n",
    "    \n",
    "    # find out chars by accessing the string in the same way we would a list\n",
    "    char_one = string[num_one]\n",
    "    char_two = string[num_two]\n",
    "    \n",
    "    # an exclusive or is the same as this matching chars == 1, since if both matched, it would be 2\n",
    "    matching_chars = int(char_one == char) + int(char_two == char)\n",
    "    \n",
    "    if matching_chars == 1:\n",
    "        return True\n",
    "    else:\n",
    "        return False\n",
    "\n",
    "# Test one that we know works\n",
    "print(valid_string_pt2(data[0]))\n",
    "# Test one we know that doesn't\n",
    "print(valid_string_pt2(data[1]))"
   ]
  },
  {
   "cell_type": "markdown",
   "id": "recreational-valentine",
   "metadata": {},
   "source": [
    "Since we got what we want, we can move on and put our list comprehension strategy to work"
   ]
  },
  {
   "cell_type": "code",
   "execution_count": 7,
   "id": "digital-norway",
   "metadata": {},
   "outputs": [
    {
     "name": "stdout",
     "output_type": "stream",
     "text": [
      "1\n"
     ]
    }
   ],
   "source": [
    "count_pt2 = len([line for line in data if valid_string_pt2(line)])\n",
    "\n",
    "print(count_pt2)"
   ]
  },
  {
   "cell_type": "markdown",
   "id": "desirable-david",
   "metadata": {},
   "source": [
    "#### Mega!\n",
    "\n",
    "We got what we were hoping for so we can now run with real_run being true and hope for the best when we submit!"
   ]
  }
 ],
 "metadata": {
  "kernelspec": {
   "display_name": "Python 3",
   "language": "python",
   "name": "python3"
  },
  "language_info": {
   "codemirror_mode": {
    "name": "ipython",
    "version": 3
   },
   "file_extension": ".py",
   "mimetype": "text/x-python",
   "name": "python",
   "nbconvert_exporter": "python",
   "pygments_lexer": "ipython3",
   "version": "3.9.2"
  }
 },
 "nbformat": 4,
 "nbformat_minor": 5
}
