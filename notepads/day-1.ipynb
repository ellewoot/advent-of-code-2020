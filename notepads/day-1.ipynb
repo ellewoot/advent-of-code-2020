{
 "cells": [
  {
   "cell_type": "markdown",
   "id": "varying-mambo",
   "metadata": {},
   "source": [
    "# Day 1 - Advent of Code 2020 (https://adventofcode.com/2020/day/1)\n",
    "## Data Preparation\n",
    "\n",
    "Before even looking at the problem I like to make sure that my data is prepared nicely. I paste the \"test\" input given on the description page into a file named `day1-test.txt` and the full puzzle input into `day1-input.txt`.\n",
    "We then want to read out this data and I link to start with it in a dictionary, where each line is an item in the list.\n",
    "\n",
    "I like to start with a variable which sets us into what **mode** we want to run it - I will set `real_run` to False to start with, to test with and get to grips with the problem. I will set it to True when I am ready to run the code for real and produce my output"
   ]
  },
  {
   "cell_type": "code",
   "execution_count": 1,
   "id": "sitting-candidate",
   "metadata": {},
   "outputs": [],
   "source": [
    "real_run = False"
   ]
  },
  {
   "cell_type": "code",
   "execution_count": 2,
   "id": "still-redhead",
   "metadata": {},
   "outputs": [],
   "source": [
    "# Set file name based on if we are in real or test mode.\n",
    "file_name = \"day1-input.txt\" if real_run else \"day1-test.txt\""
   ]
  },
  {
   "cell_type": "markdown",
   "id": "chubby-college",
   "metadata": {},
   "source": [
    "#### How do we get the input into a nice clean list, with no *bonus* characters?\n",
    "I like the following method, it is neat and all on one line. I don't want to fuss about opening the file and doing any more than I have to here. It uses the file `open` function, `rstrip` method and list comprehension.\n",
    "\n",
    "Resources:\n",
    "* open function: https://www.w3schools.com/python/ref_func_open.asp\n",
    "* rstrip method: https://www.w3schools.com/python/ref_string_rstrip.asp\n",
    "* list comprehension: https://www.w3schools.com/python/python_lists_comprehension.asp"
   ]
  },
  {
   "cell_type": "code",
   "execution_count": 3,
   "id": "authentic-bacon",
   "metadata": {},
   "outputs": [],
   "source": [
    "# create a list from the file, removing any '\\n' characters\n",
    "data = [line.rstrip('\\n') for line in open(file_name)]"
   ]
  },
  {
   "cell_type": "code",
   "execution_count": 4,
   "id": "fitting-probability",
   "metadata": {},
   "outputs": [
    {
     "name": "stdout",
     "output_type": "stream",
     "text": [
      "['1721', '979', '366', '299', '675', '1456']\n"
     ]
    }
   ],
   "source": [
    "# print data to check it's what we want it to be\n",
    "print(data)"
   ]
  },
  {
   "cell_type": "markdown",
   "id": "anonymous-filling",
   "metadata": {},
   "source": [
    "## Part One\n",
    "\n",
    "Now we have the test input in a useable format we are able to start looking at solving the problem...\n",
    "\n",
    "The problem can be summarised as:\n",
    "* We have a list of numbers\n",
    "* A pair of numbers in this list add up to a given value (2o2o in this case)\n",
    "* Multiply the pair of numbers together and return that value"
   ]
  },
  {
   "cell_type": "code",
   "execution_count": 11,
   "id": "accessible-toilet",
   "metadata": {},
   "outputs": [],
   "source": [
    "# make a note of our given sum value to find\n",
    "sum_value = 2020"
   ]
  },
  {
   "cell_type": "code",
   "execution_count": 7,
   "id": "narrative-mozambique",
   "metadata": {},
   "outputs": [],
   "source": [
    "# it is worth doint some more data prep now, since we know all out items in our list should be whole numbers - aka ints\n",
    "data = [int(val) for val in data]\n",
    "\n",
    "# sorting may also be useful in this case\n",
    "data.sort()"
   ]
  },
  {
   "cell_type": "code",
   "execution_count": 8,
   "id": "supreme-verification",
   "metadata": {},
   "outputs": [
    {
     "name": "stdout",
     "output_type": "stream",
     "text": [
      "[299, 366, 675, 979, 1456, 1721]\n"
     ]
    }
   ],
   "source": [
    "print(data)"
   ]
  },
  {
   "cell_type": "markdown",
   "id": "connected-watts",
   "metadata": {},
   "source": [
    "#### Finding the pair using 'difference' method\n",
    "In this method we are able to use our fixed value `sum_value` and operate for each value in our list - until we find our pair.\n",
    "For each value, we can see if the difference between it and `sum_value` is contained in the list."
   ]
  },
  {
   "cell_type": "code",
   "execution_count": 12,
   "id": "leading-consolidation",
   "metadata": {},
   "outputs": [
    {
     "name": "stdout",
     "output_type": "stream",
     "text": [
      "Found the pair! (299, 1721). Result: 514579\n"
     ]
    }
   ],
   "source": [
    "for val in data:\n",
    "    diff = sum_value - val\n",
    "    \n",
    "    if diff in data:\n",
    "        pair = (val, diff)\n",
    "        break\n",
    "\n",
    "result = pair[0] * pair[1]\n",
    "print(f\"Found the pair! {pair}. Result: {result}\")"
   ]
  },
  {
   "cell_type": "markdown",
   "id": "forced-conducting",
   "metadata": {},
   "source": [
    "## Part Two\n",
    "\n",
    "Incredibly similar to Part One but instead of only two values we need to find three that add up to the `sum_value`."
   ]
  },
  {
   "cell_type": "code",
   "execution_count": 16,
   "id": "public-homeless",
   "metadata": {},
   "outputs": [],
   "source": [
    "# define inner loop which will return the set of \n",
    "def inner_loop(outer_val, new_list):\n",
    "    for inner_val in new_list:\n",
    "        diff = sum_value - outer_val - inner_val\n",
    "        \n",
    "        if diff in new_list:\n",
    "            return (outer_val, inner_val, diff)\n",
    "    return None"
   ]
  },
  {
   "cell_type": "code",
   "execution_count": 15,
   "id": "raised-migration",
   "metadata": {},
   "outputs": [
    {
     "name": "stdout",
     "output_type": "stream",
     "text": [
      "Found the trips! (366, 675, 979). Result: 241861950\n"
     ]
    }
   ],
   "source": [
    "remaining_data = data.copy()\n",
    "\n",
    "for val in data:\n",
    "    # removing the values in the top level data as once we have parsed this\n",
    "    # we'll have checked it with every combination of the list so may as well get rid\n",
    "    remaining_data.remove(val)\n",
    "    \n",
    "    trips = inner_loop(val, remaining_data)\n",
    "    if trips:\n",
    "        break\n",
    "\n",
    "\n",
    "result = trips[0] * trips[1] * trips[2]\n",
    "print(f\"Found the trips! {trips}. Result: {result}\")"
   ]
  },
  {
   "cell_type": "markdown",
   "id": "alert-temple",
   "metadata": {},
   "source": [
    "#### Bosh!\n",
    "And like that, we have our results to both parts. We swap our file into `real_run` mode and can get our final results."
   ]
  },
  {
   "cell_type": "markdown",
   "id": "designing-knowing",
   "metadata": {},
   "source": [
    "## Extension\n",
    "I'm going to try and go one step further than the Advent Of Code 2020 Day 1 goes and try to create a function which takes in the set size that we want to sum to our given value.\n",
    "\n",
    "This time we want to use sets, not lists and we can use the sum and combinations methods. \n",
    "\n",
    "Useful methods:\n",
    "* Sum of a set: https://www.geeksforgeeks.org/sum-function-python/\n",
    "* Combinations of a set: https://docs.python.org/3/library/itertools.html#itertools.combinations"
   ]
  },
  {
   "cell_type": "code",
   "execution_count": 19,
   "id": "accessible-skirt",
   "metadata": {},
   "outputs": [],
   "source": [
    "import itertools"
   ]
  },
  {
   "cell_type": "code",
   "execution_count": 24,
   "id": "behind-circus",
   "metadata": {},
   "outputs": [],
   "source": [
    "def find_combination(data_list, set_size, sum_val):\n",
    "    set_data = set(data)\n",
    "    list_of_sets = [set(i) for i in itertools.combinations(set_data, set_size)]\n",
    "\n",
    "    for current_set in list_of_sets:\n",
    "        set_total = sum(current_set)\n",
    "        \n",
    "        if set_total == sum_val:\n",
    "            return current_set\n",
    "        \n",
    "    # if combination has not been found by now... there isn't one\n",
    "    return False"
   ]
  },
  {
   "cell_type": "code",
   "execution_count": 21,
   "id": "dietary-lawyer",
   "metadata": {},
   "outputs": [
    {
     "data": {
      "text/plain": [
       "{299, 1721}"
      ]
     },
     "execution_count": 21,
     "metadata": {},
     "output_type": "execute_result"
    }
   ],
   "source": [
    "# Verify we get the same value as part one\n",
    "find_combination(data, 2, 2020)"
   ]
  },
  {
   "cell_type": "code",
   "execution_count": 22,
   "id": "sonic-queue",
   "metadata": {},
   "outputs": [
    {
     "data": {
      "text/plain": [
       "{366, 675, 979}"
      ]
     },
     "execution_count": 22,
     "metadata": {},
     "output_type": "execute_result"
    }
   ],
   "source": [
    "# Verify we get the same value as part two\n",
    "find_combination(data, 3, 2020)"
   ]
  },
  {
   "cell_type": "code",
   "execution_count": 25,
   "id": "supported-bowling",
   "metadata": {},
   "outputs": [
    {
     "data": {
      "text/plain": [
       "False"
      ]
     },
     "execution_count": 25,
     "metadata": {},
     "output_type": "execute_result"
    }
   ],
   "source": [
    "# We don't expect this to return anything sensible\n",
    "find_combination(data, 4, 2020)"
   ]
  },
  {
   "cell_type": "code",
   "execution_count": 26,
   "id": "collected-poland",
   "metadata": {},
   "outputs": [
    {
     "data": {
      "text/plain": [
       "{299, 366, 675, 979}"
      ]
     },
     "execution_count": 26,
     "metadata": {},
     "output_type": "execute_result"
    }
   ],
   "source": [
    "# Added up the first 4 values in the list\n",
    "find_combination(data, 4, 2319)"
   ]
  }
 ],
 "metadata": {
  "kernelspec": {
   "display_name": "Python 3",
   "language": "python",
   "name": "python3"
  },
  "language_info": {
   "codemirror_mode": {
    "name": "ipython",
    "version": 3
   },
   "file_extension": ".py",
   "mimetype": "text/x-python",
   "name": "python",
   "nbconvert_exporter": "python",
   "pygments_lexer": "ipython3",
   "version": "3.9.2"
  }
 },
 "nbformat": 4,
 "nbformat_minor": 5
}
